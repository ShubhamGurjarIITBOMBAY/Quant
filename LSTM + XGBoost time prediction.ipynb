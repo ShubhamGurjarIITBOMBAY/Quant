{
  "cells": [
    {
      "cell_type": "markdown",
      "metadata": {
        "id": "w71XrkpseP0B"
      },
      "source": [
        "importing the file, select test.csv in case you want to do the model performance throughout the time series."
      ]
    },
    {
      "cell_type": "code",
      "execution_count": null,
      "metadata": {
        "colab": {
          "base_uri": "https://localhost:8080/",
          "height": 73
        },
        "id": "6JA2rQjcXaCc",
        "outputId": "e889ae09-e46e-45fa-93a2-8eec721a4650"
      },
      "outputs": [
        {
          "data": {
            "text/html": [
              "\n",
              "     <input type=\"file\" id=\"files-be9c7858-ee84-4853-9f14-cb3d022eab9f\" name=\"files[]\" multiple disabled\n",
              "        style=\"border:none\" />\n",
              "     <output id=\"result-be9c7858-ee84-4853-9f14-cb3d022eab9f\">\n",
              "      Upload widget is only available when the cell has been executed in the\n",
              "      current browser session. Please rerun this cell to enable.\n",
              "      </output>\n",
              "      <script>// Copyright 2017 Google LLC\n",
              "//\n",
              "// Licensed under the Apache License, Version 2.0 (the \"License\");\n",
              "// you may not use this file except in compliance with the License.\n",
              "// You may obtain a copy of the License at\n",
              "//\n",
              "//      http://www.apache.org/licenses/LICENSE-2.0\n",
              "//\n",
              "// Unless required by applicable law or agreed to in writing, software\n",
              "// distributed under the License is distributed on an \"AS IS\" BASIS,\n",
              "// WITHOUT WARRANTIES OR CONDITIONS OF ANY KIND, either express or implied.\n",
              "// See the License for the specific language governing permissions and\n",
              "// limitations under the License.\n",
              "\n",
              "/**\n",
              " * @fileoverview Helpers for google.colab Python module.\n",
              " */\n",
              "(function(scope) {\n",
              "function span(text, styleAttributes = {}) {\n",
              "  const element = document.createElement('span');\n",
              "  element.textContent = text;\n",
              "  for (const key of Object.keys(styleAttributes)) {\n",
              "    element.style[key] = styleAttributes[key];\n",
              "  }\n",
              "  return element;\n",
              "}\n",
              "\n",
              "// Max number of bytes which will be uploaded at a time.\n",
              "const MAX_PAYLOAD_SIZE = 100 * 1024;\n",
              "\n",
              "function _uploadFiles(inputId, outputId) {\n",
              "  const steps = uploadFilesStep(inputId, outputId);\n",
              "  const outputElement = document.getElementById(outputId);\n",
              "  // Cache steps on the outputElement to make it available for the next call\n",
              "  // to uploadFilesContinue from Python.\n",
              "  outputElement.steps = steps;\n",
              "\n",
              "  return _uploadFilesContinue(outputId);\n",
              "}\n",
              "\n",
              "// This is roughly an async generator (not supported in the browser yet),\n",
              "// where there are multiple asynchronous steps and the Python side is going\n",
              "// to poll for completion of each step.\n",
              "// This uses a Promise to block the python side on completion of each step,\n",
              "// then passes the result of the previous step as the input to the next step.\n",
              "function _uploadFilesContinue(outputId) {\n",
              "  const outputElement = document.getElementById(outputId);\n",
              "  const steps = outputElement.steps;\n",
              "\n",
              "  const next = steps.next(outputElement.lastPromiseValue);\n",
              "  return Promise.resolve(next.value.promise).then((value) => {\n",
              "    // Cache the last promise value to make it available to the next\n",
              "    // step of the generator.\n",
              "    outputElement.lastPromiseValue = value;\n",
              "    return next.value.response;\n",
              "  });\n",
              "}\n",
              "\n",
              "/**\n",
              " * Generator function which is called between each async step of the upload\n",
              " * process.\n",
              " * @param {string} inputId Element ID of the input file picker element.\n",
              " * @param {string} outputId Element ID of the output display.\n",
              " * @return {!Iterable<!Object>} Iterable of next steps.\n",
              " */\n",
              "function* uploadFilesStep(inputId, outputId) {\n",
              "  const inputElement = document.getElementById(inputId);\n",
              "  inputElement.disabled = false;\n",
              "\n",
              "  const outputElement = document.getElementById(outputId);\n",
              "  outputElement.innerHTML = '';\n",
              "\n",
              "  const pickedPromise = new Promise((resolve) => {\n",
              "    inputElement.addEventListener('change', (e) => {\n",
              "      resolve(e.target.files);\n",
              "    });\n",
              "  });\n",
              "\n",
              "  const cancel = document.createElement('button');\n",
              "  inputElement.parentElement.appendChild(cancel);\n",
              "  cancel.textContent = 'Cancel upload';\n",
              "  const cancelPromise = new Promise((resolve) => {\n",
              "    cancel.onclick = () => {\n",
              "      resolve(null);\n",
              "    };\n",
              "  });\n",
              "\n",
              "  // Wait for the user to pick the files.\n",
              "  const files = yield {\n",
              "    promise: Promise.race([pickedPromise, cancelPromise]),\n",
              "    response: {\n",
              "      action: 'starting',\n",
              "    }\n",
              "  };\n",
              "\n",
              "  cancel.remove();\n",
              "\n",
              "  // Disable the input element since further picks are not allowed.\n",
              "  inputElement.disabled = true;\n",
              "\n",
              "  if (!files) {\n",
              "    return {\n",
              "      response: {\n",
              "        action: 'complete',\n",
              "      }\n",
              "    };\n",
              "  }\n",
              "\n",
              "  for (const file of files) {\n",
              "    const li = document.createElement('li');\n",
              "    li.append(span(file.name, {fontWeight: 'bold'}));\n",
              "    li.append(span(\n",
              "        `(${file.type || 'n/a'}) - ${file.size} bytes, ` +\n",
              "        `last modified: ${\n",
              "            file.lastModifiedDate ? file.lastModifiedDate.toLocaleDateString() :\n",
              "                                    'n/a'} - `));\n",
              "    const percent = span('0% done');\n",
              "    li.appendChild(percent);\n",
              "\n",
              "    outputElement.appendChild(li);\n",
              "\n",
              "    const fileDataPromise = new Promise((resolve) => {\n",
              "      const reader = new FileReader();\n",
              "      reader.onload = (e) => {\n",
              "        resolve(e.target.result);\n",
              "      };\n",
              "      reader.readAsArrayBuffer(file);\n",
              "    });\n",
              "    // Wait for the data to be ready.\n",
              "    let fileData = yield {\n",
              "      promise: fileDataPromise,\n",
              "      response: {\n",
              "        action: 'continue',\n",
              "      }\n",
              "    };\n",
              "\n",
              "    // Use a chunked sending to avoid message size limits. See b/62115660.\n",
              "    let position = 0;\n",
              "    do {\n",
              "      const length = Math.min(fileData.byteLength - position, MAX_PAYLOAD_SIZE);\n",
              "      const chunk = new Uint8Array(fileData, position, length);\n",
              "      position += length;\n",
              "\n",
              "      const base64 = btoa(String.fromCharCode.apply(null, chunk));\n",
              "      yield {\n",
              "        response: {\n",
              "          action: 'append',\n",
              "          file: file.name,\n",
              "          data: base64,\n",
              "        },\n",
              "      };\n",
              "\n",
              "      let percentDone = fileData.byteLength === 0 ?\n",
              "          100 :\n",
              "          Math.round((position / fileData.byteLength) * 100);\n",
              "      percent.textContent = `${percentDone}% done`;\n",
              "\n",
              "    } while (position < fileData.byteLength);\n",
              "  }\n",
              "\n",
              "  // All done.\n",
              "  yield {\n",
              "    response: {\n",
              "      action: 'complete',\n",
              "    }\n",
              "  };\n",
              "}\n",
              "\n",
              "scope.google = scope.google || {};\n",
              "scope.google.colab = scope.google.colab || {};\n",
              "scope.google.colab._files = {\n",
              "  _uploadFiles,\n",
              "  _uploadFilesContinue,\n",
              "};\n",
              "})(self);\n",
              "</script> "
            ],
            "text/plain": [
              "<IPython.core.display.HTML object>"
            ]
          },
          "metadata": {},
          "output_type": "display_data"
        },
        {
          "name": "stdout",
          "output_type": "stream",
          "text": [
            "Saving intern_14March_20230710.csv to intern_14March_20230710.csv\n"
          ]
        }
      ],
      "source": [
        "#importing pandas to read csv files and handle data frame while numpy to handle array along with matplotlib to plot the graph\n",
        "import pandas as pd\n",
        "import numpy as np\n",
        "import matplotlib.pyplot as plt\n",
        "from google.colab import files# To import the file from our local system to collab\n",
        "\n",
        "uploaded = files.upload()"
      ]
    },
    {
      "cell_type": "code",
      "execution_count": null,
      "metadata": {
        "id": "vCZIE9EDX1W8"
      },
      "outputs": [],
      "source": [
        "df=pd.read_csv('intern_14March_20230710.csv')#define that file as the dataframe"
      ]
    },
    {
      "cell_type": "markdown",
      "metadata": {
        "id": "bKx2YKFtedxH"
      },
      "source": [
        "Data Visualisation"
      ]
    },
    {
      "cell_type": "code",
      "execution_count": null,
      "metadata": {
        "colab": {
          "base_uri": "https://localhost:8080/",
          "height": 505
        },
        "id": "j4wplx2INIrX",
        "outputId": "b42f0e18-237b-4230-9728-a8ba7ca19c66"
      },
      "outputs": [
        {
          "data": {
            "image/png": "[encoded data removed]",
            "text/plain": [
              "<Figure size 640x480 with 1 Axes>"
            ]
          },
          "metadata": {},
          "output_type": "display_data"
        }
      ],
      "source": [
        "\n",
        "import matplotlib.pyplot as plt\n",
        "import numpy as np\n",
        "#in the test csv rename the column to time, also comment this line if you are doing for single day data\n",
        "df.rename(columns={'Unnamed: 0': 'time'}, inplace=True)\n",
        "x=df['time'].values #defining the array to get the Data values on the X\n",
        "y=df['t1'].values #defining the array to get the Data values on the y\n",
        "\n",
        "# Plot 't1' against time\n",
        "plt.plot(x,y)#plotting the data\n",
        "\n",
        "# Labeling the axes\n",
        "plt.xlabel('Time')\n",
        "plt.ylabel('t1')\n",
        "\n",
        "# Adding title\n",
        "plt.title('t1 vs Time')\n",
        "\n",
        "# Rotating x-axis labels for better readability (optional)\n",
        "plt.xticks(rotation=45)\n",
        "\n",
        "# Display the plot\n",
        "plt.show()"
      ]
    },
    {
      "cell_type": "markdown",
      "metadata": {
        "id": "BFr87na6jptj"
      },
      "source": [
        "Doing the same step for t2"
      ]
    },
    {
      "cell_type": "code",
      "execution_count": null,
      "metadata": {
        "colab": {
          "base_uri": "https://localhost:8080/",
          "height": 505
        },
        "id": "FTZ9oxOoNWEF",
        "outputId": "fc237ada-e907-48a2-d17f-283284e286df"
      },
      "outputs": [
        {
          "data": {
            "image/png": "[encoded data removed]",
            "text/plain": [
              "<Figure size 640x480 with 1 Axes>"
            ]
          },
          "metadata": {},
          "output_type": "display_data"
        }
      ],
      "source": [
        "x=df['time'].values\n",
        "y=df['t2'].values\n",
        "\n",
        "# Plot 't1' against time\n",
        "plt.plot(x,y)\n",
        "\n",
        "# Labeling the axes\n",
        "plt.xlabel('Time')\n",
        "plt.ylabel('t2')\n",
        "\n",
        "# Adding title\n",
        "plt.title('t2 vs Time')\n",
        "\n",
        "# Rotating x-axis labels for better readability (optional)\n",
        "plt.xticks(rotation=45)\n",
        "\n",
        "# Display the plot\n",
        "plt.show()"
      ]
    },
    {
      "cell_type": "markdown",
      "metadata": {
        "id": "5XDgaFCCeiPM"
      },
      "source": [
        "By Performing the ADF Test on the Data we can do a check for the stationarity of the data, so, if the data is stationary it will break the hypothesis of non-stationary by having the statistic come out of the confidence interval"
      ]
    },
    {
      "cell_type": "markdown",
      "metadata": {
        "id": "5VBH_SX0mgco"
      },
      "source": [
        "This code will plot the trend, seasonality, cyclicity and irregularities in the data"
      ]
    },
    {
      "cell_type": "code",
      "execution_count": null,
      "metadata": {
        "id": "D5Fanm4_mfBI"
      },
      "outputs": [],
      "source": [
        "\n",
        "\n",
        "import numpy as np\n",
        "import pandas as pd\n",
        "import matplotlib.pyplot as plt\n",
        "from statsmodels.tsa.seasonal import STL\n",
        "\n",
        "# Generate sample data (replace this with your own array of values)\n",
        "# np.random.seed(0)\n",
        "# n = 100\n",
        "# t = np.arange(n)\n",
        "# trend = 0.5 * t\n",
        "# seasonality = 10 * np.sin(2 * np.pi * t / 12)\n",
        "# cyclicality = 5 * np.sin(2 * np.pi * t / 20)\n",
        "# irregularity = np.random.randn(n)\n",
        "data =df['t1'].values\n",
        "# Convert array to pandas Series with a datetime index\n",
        "ts = pd.Series(df['t1'].values, index=pd.date_range(start='2022-01-01', periods=len(df), freq='H'))\n",
        "\n",
        "# Perform Seasonal and Trend decomposition using LOESS (STL)\n",
        "stl = STL(ts, seasonal=13)\n",
        "res = stl.fit()\n",
        "\n",
        "# Plot the decomposed components\n",
        "fig, ax = plt.subplots(4, 1, figsize=(10, 8), sharex=True)\n",
        "ax[0].plot(res.trend)\n",
        "ax[0].set_title('Trend')\n",
        "ax[1].plot(res.seasonal)\n",
        "ax[1].set_title('Seasonality')\n",
        "ax[2].plot(res.resid)\n",
        "ax[2].set_title('Irregularity')\n",
        "ax[3].plot(res.trend + res.seasonal)\n",
        "ax[3].set_title('Trend + Seasonality')\n",
        "plt.xlabel('Date')\n",
        "plt.tight_layout()\n",
        "plt.show()"
      ]
    },
    {
      "cell_type": "markdown",
      "metadata": {
        "id": "XPTeXla8mzuL"
      },
      "source": [
        "doing it for the data t2"
      ]
    },
    {
      "cell_type": "code",
      "execution_count": null,
      "metadata": {
        "id": "uAKQbvHJmvBM"
      },
      "outputs": [],
      "source": [
        "\n",
        "\n",
        "import numpy as np\n",
        "import pandas as pd\n",
        "import matplotlib.pyplot as plt\n",
        "from statsmodels.tsa.seasonal import STL\n",
        "\n",
        "# Generate sample data (replace this with your own array of values)\n",
        "# np.random.seed(0)\n",
        "# n = 100\n",
        "# t = np.arange(n)\n",
        "# trend = 0.5 * t\n",
        "# seasonality = 10 * np.sin(2 * np.pi * t / 12)\n",
        "# cyclicality = 5 * np.sin(2 * np.pi * t / 20)\n",
        "# irregularity = np.random.randn(n)\n",
        "data =df['t2'].values\n",
        "# Convert array to pandas Series with a datetime index\n",
        "ts = pd.Series(df['t2'].values, index=pd.date_range(start='2022-01-01', periods=len(df), freq='H'))\n",
        "\n",
        "# Perform Seasonal and Trend decomposition using LOESS (STL)\n",
        "stl = STL(ts, seasonal=13)\n",
        "res = stl.fit()\n",
        "\n",
        "# Plot the decomposed components\n",
        "fig, ax = plt.subplots(4, 1, figsize=(10, 8), sharex=True)\n",
        "ax[0].plot(res.trend)\n",
        "ax[0].set_title('Trend')\n",
        "ax[1].plot(res.seasonal)\n",
        "ax[1].set_title('Seasonality')\n",
        "ax[2].plot(res.resid)\n",
        "ax[2].set_title('Irregularity')\n",
        "ax[3].plot(res.trend + res.seasonal)\n",
        "ax[3].set_title('Trend + Seasonality')\n",
        "plt.xlabel('Date')\n",
        "plt.tight_layout()\n",
        "plt.show()"
      ]
    },
    {
      "cell_type": "code",
      "execution_count": null,
      "metadata": {
        "id": "RzHmk5whNmnU"
      },
      "outputs": [],
      "source": [
        "from statsmodels.tsa.stattools import adfuller\n",
        "# df2=df1.drop(\"t1\",axis=1)\n",
        "# print(df2)\n",
        "result = adfuller(df['t2'].values)\n",
        "\n",
        "# Extract and print results\n",
        "print('ADF Statistic:', result[0])\n",
        "print('p-value:', result[1])\n",
        "print('Critical Values:')\n",
        "for key, value in result[4].items():\n",
        "    print('\\t%s: %.3f' % (key, value))\n",
        "\n",
        "# Interpretation\n",
        "if result[1] > 0.05:\n",
        "    print(\"Fail to reject the null hypothesis (H0), the data has a unit root and is non-stationary.\")\n",
        "else:\n",
        "    print(\"Reject the null hypothesis (H0), the data does not have a unit root and is stationary.\")"
      ]
    },
    {
      "cell_type": "markdown",
      "metadata": {
        "id": "MDjvndsFkCsa"
      },
      "source": [
        "doing it for the data t1"
      ]
    },
    {
      "cell_type": "code",
      "execution_count": null,
      "metadata": {
        "colab": {
          "base_uri": "https://localhost:8080/",
          "height": 211
        },
        "id": "R0zCMo9JNmj4",
        "outputId": "3afcd957-9506-47f1-bcf2-61e65beed692"
      },
      "outputs": [
        {
          "ename": "NameError",
          "evalue": "name 'df' is not defined",
          "output_type": "error",
          "traceback": [
            "\u001b[0;31m---------------------------------------------------------------------------\u001b[0m",
            "\u001b[0;31mNameError\u001b[0m                                 Traceback (most recent call last)",
            "\u001b[0;32m<ipython-input-1-25d7d03c4cc8>\u001b[0m in \u001b[0;36m<cell line: 4>\u001b[0;34m()\u001b[0m\n\u001b[1;32m      2\u001b[0m \u001b[0;31m# df2=df1.drop(\"t1\",axis=1)\u001b[0m\u001b[0;34m\u001b[0m\u001b[0;34m\u001b[0m\u001b[0m\n\u001b[1;32m      3\u001b[0m \u001b[0;31m# print(df2)\u001b[0m\u001b[0;34m\u001b[0m\u001b[0;34m\u001b[0m\u001b[0m\n\u001b[0;32m----> 4\u001b[0;31m \u001b[0mresult\u001b[0m \u001b[0;34m=\u001b[0m \u001b[0madfuller\u001b[0m\u001b[0;34m(\u001b[0m\u001b[0mdf\u001b[0m\u001b[0;34m[\u001b[0m\u001b[0;34m't1'\u001b[0m\u001b[0;34m]\u001b[0m\u001b[0;34m.\u001b[0m\u001b[0mvalues\u001b[0m\u001b[0;34m)\u001b[0m\u001b[0;34m\u001b[0m\u001b[0;34m\u001b[0m\u001b[0m\n\u001b[0m\u001b[1;32m      5\u001b[0m \u001b[0;34m\u001b[0m\u001b[0m\n\u001b[1;32m      6\u001b[0m \u001b[0;31m# Extract and print results\u001b[0m\u001b[0;34m\u001b[0m\u001b[0;34m\u001b[0m\u001b[0m\n",
            "\u001b[0;31mNameError\u001b[0m: name 'df' is not defined"
          ]
        }
      ],
      "source": [
        "from statsmodels.tsa.stattools import adfuller\n",
        "# df2=df1.drop(\"t1\",axis=1)\n",
        "# print(df2)\n",
        "result = adfuller(df['t1'].values)\n",
        "\n",
        "# Extract and print results\n",
        "print('ADF Statistic:', result[0])\n",
        "print('p-value:', result[1])\n",
        "print('Critical Values:')\n",
        "for key, value in result[4].items():\n",
        "    print('\\t%s: %.3f' % (key, value))\n",
        "\n",
        "# Interpretation\n",
        "if result[1] > 0.05:\n",
        "    print(\"Fail to reject the null hypothesis (H0), the data has a unit root and is non-stationary.\")\n",
        "else:\n",
        "    print(\"Reject the null hypothesis (H0), the data does not have a unit root and is stationary.\")"
      ]
    },
    {
      "cell_type": "markdown",
      "metadata": {
        "id": "BMclIwRVe-tg"
      },
      "source": [
        "By doing the PACF and ACF calculation between lags we are seeing if the ARIMA model is a good model for this or not"
      ]
    },
    {
      "cell_type": "code",
      "execution_count": null,
      "metadata": {
        "id": "BL10WJurNmhU"
      },
      "outputs": [],
      "source": [
        "import pandas as pd\n",
        "import matplotlib.pyplot as plt\n",
        "from statsmodels.graphics.tsaplots import plot_acf, plot_pacf\n",
        "\n",
        "# Assuming df1 is your time series DataFrame\n",
        "# Example:\n",
        "# df1 = pd.DataFrame({'value': [10, 20, 30, 40, 50]})\n",
        "\n",
        "# Plot ACF for df1\n",
        "plt.figure(figsize=(12, 6))\n",
        "plot_acf(df['t2'], lags=30, ax=plt.gca())\n",
        "plt.title('ACF Plot for t2')\n",
        "plt.xlabel('Lags')\n",
        "plt.ylabel('Autocorrelation')\n",
        "plt.show()\n",
        "\n",
        "# Plot PACF for df1\n",
        "plt.figure(figsize=(12, 6))\n",
        "plot_pacf(df['t2'], lags=30, ax=plt.gca())\n",
        "plt.title('PACF Plot for t2')\n",
        "plt.xlabel('Lags')\n",
        "plt.ylabel('Partial Autocorrelation')\n",
        "plt.show()\n"
      ]
    },
    {
      "cell_type": "markdown",
      "metadata": {
        "id": "B4GLt1OTkPD0"
      },
      "source": [
        "Doing the same for the t1"
      ]
    },
    {
      "cell_type": "code",
      "execution_count": null,
      "metadata": {
        "id": "69SY-VKvNmfF"
      },
      "outputs": [],
      "source": [
        "import pandas as pd\n",
        "import matplotlib.pyplot as plt\n",
        "from statsmodels.graphics.tsaplots import plot_acf, plot_pacf\n",
        "\n",
        "# Assuming df1 is your time series DataFrame\n",
        "# Example:\n",
        "# df1 = pd.DataFrame({'value': [10, 20, 30, 40, 50]})\n",
        "\n",
        "# Plot ACF for df1\n",
        "plt.figure(figsize=(12, 6))\n",
        "plot_acf(df['t1'], lags=30, ax=plt.gca())\n",
        "plt.title('ACF Plot for t1')\n",
        "plt.xlabel('Lags')\n",
        "plt.ylabel('Autocorrelation')\n",
        "plt.show()\n",
        "\n",
        "# Plot PACF for df1\n",
        "plt.figure(figsize=(12, 6))\n",
        "plot_pacf(df['t1'], lags=30, ax=plt.gca())\n",
        "plt.title('PACF Plot for t1')\n",
        "plt.xlabel('Lags')\n",
        "plt.ylabel('Partial Autocorrelation')\n",
        "plt.show()\n"
      ]
    },
    {
      "cell_type": "markdown",
      "metadata": {
        "id": "OsH7DjLufYHR"
      },
      "source": [
        "Implementing the XGBoost ALgorithm"
      ]
    },
    {
      "cell_type": "code",
      "execution_count": null,
      "metadata": {
        "colab": {
          "base_uri": "https://localhost:8080/"
        },
        "id": "iOB5SwL-X1aC",
        "outputId": "ec7dec52-3d25-4e87-e74b-33d68d300614"
      },
      "outputs": [
        {
          "name": "stdout",
          "output_type": "stream",
          "text": [
            "Mean Squared Error: 0.3599829372454987\n"
          ]
        }
      ],
      "source": [
        "import numpy as np\n",
        "from sklearn.model_selection import train_test_split\n",
        "from sklearn.metrics import mean_squared_error\n",
        "import xgboost as xgb\n",
        "\n",
        "\n",
        "\n",
        "data = df['t1'].values\n",
        "#THe future steps is the variable that will be trained and it will give the prediction that you want to do in the future\n",
        "# Define window size for feature extraction now for finding the best window size we can run the model on multiple window sizes and can see which of that is giving the minimum Loss in the test and the train as well\n",
        "window_size = 100\n",
        "future_steps = 10\n",
        "\n",
        "# Extract features and target(that is feature matrix along with a target vector of length future_steps)\n",
        "X = np.array([data[i:i+window_size] for i in range(len(data) - window_size - future_steps)])\n",
        "y = np.array([data[i+window_size:i+window_size+future_steps] for i in range(len(data) - window_size - future_steps)])\n",
        "\n",
        "# Split data into training and testing sets\n",
        "X_train, X_test, y_train, y_test = train_test_split(X, y, test_size=0.2, random_state=42)\n",
        "\n",
        "# Define XGBoost regressor model\n",
        "model = xgb.XGBRegressor(objective='reg:squarederror')\n",
        "\n",
        "# Train the model\n",
        "model.fit(X_train, y_train)\n",
        "\n",
        "# Make predictions\n",
        "y_pred = model.predict(X_test)\n",
        "\n",
        "# Evaluate the model\n",
        "mse = mean_squared_error(y_test, y_pred)\n",
        "print(\"Mean Squared Error:\", mse)\n"
      ]
    },
    {
      "cell_type": "code",
      "execution_count": null,
      "metadata": {
        "colab": {
          "base_uri": "https://localhost:8080/"
        },
        "id": "zwlyWsPlX1eJ",
        "outputId": "6f84efae-fa6a-4090-81b1-e3aecf0dbbbb"
      },
      "outputs": [
        {
          "name": "stdout",
          "output_type": "stream",
          "text": [
            "[-0.018313 -0.05456   0.092641 -0.001792  0.031267  0.040503 -0.058636\n",
            " -0.053096  0.12421   0.039032  0.052316 -0.033961 -0.055393  0.027038\n",
            "  0.007084 -0.005624  0.024478  0.000711 -0.082129  0.057028 -0.121791\n",
            " -0.012459 -0.04585  -0.048819  0.018279 -0.055258 -0.045719  0.011769\n",
            " -0.054807 -0.139289  0.065224 -0.021453 -0.039381 -0.068109  0.018696\n",
            " -0.128202 -0.107769  0.146171 -0.084558  0.156431 -0.175523 -0.083808\n",
            " -0.037621 -0.003146 -0.121029 -0.079444 -0.287712  0.091537 -0.076715\n",
            " -0.063875  0.003113 -0.103333 -0.07833   0.00665  -0.07057  -0.003894\n",
            "  0.012422 -0.019674 -0.217885 -0.001147 -0.035997 -0.09267  -0.089197\n",
            "  0.038563 -0.107634  0.003801  0.128081 -0.023577 -0.01864  -0.055853\n",
            " -0.029996  0.063729 -0.024839 -0.026315 -0.264351  0.200603 -0.072132\n",
            "  0.078501 -0.136505 -0.063109 -0.022557  0.142775 -0.277232  0.046284\n",
            " -0.121923 -0.017516 -0.084649 -0.027022 -0.026921 -0.03883  -0.150219\n",
            "  0.004163  0.04338   0.066351 -0.123526 -0.038813  0.211145 -0.104601\n",
            "  0.016405 -0.046621]\n",
            "[[-0.018313 -0.05456   0.092641 -0.001792  0.031267  0.040503 -0.058636\n",
            "  -0.053096  0.12421   0.039032  0.052316 -0.033961 -0.055393  0.027038\n",
            "   0.007084 -0.005624  0.024478  0.000711 -0.082129  0.057028 -0.121791\n",
            "  -0.012459 -0.04585  -0.048819  0.018279 -0.055258 -0.045719  0.011769\n",
            "  -0.054807 -0.139289  0.065224 -0.021453 -0.039381 -0.068109  0.018696\n",
            "  -0.128202 -0.107769  0.146171 -0.084558  0.156431 -0.175523 -0.083808\n",
            "  -0.037621 -0.003146 -0.121029 -0.079444 -0.287712  0.091537 -0.076715\n",
            "  -0.063875  0.003113 -0.103333 -0.07833   0.00665  -0.07057  -0.003894\n",
            "   0.012422 -0.019674 -0.217885 -0.001147 -0.035997 -0.09267  -0.089197\n",
            "   0.038563 -0.107634  0.003801  0.128081 -0.023577 -0.01864  -0.055853\n",
            "  -0.029996  0.063729 -0.024839 -0.026315 -0.264351  0.200603 -0.072132\n",
            "   0.078501 -0.136505 -0.063109 -0.022557  0.142775 -0.277232  0.046284\n",
            "  -0.121923 -0.017516 -0.084649 -0.027022 -0.026921 -0.03883  -0.150219\n",
            "   0.004163  0.04338   0.066351 -0.123526 -0.038813  0.211145 -0.104601\n",
            "   0.016405 -0.046621]]\n",
            "[-0.018313 -0.05456   0.092641 -0.001792  0.031267  0.040503 -0.058636\n",
            " -0.053096  0.12421   0.039032  0.052316 -0.033961 -0.055393  0.027038\n",
            "  0.007084 -0.005624  0.024478  0.000711 -0.082129  0.057028 -0.121791\n",
            " -0.012459 -0.04585  -0.048819  0.018279 -0.055258 -0.045719  0.011769\n",
            " -0.054807 -0.139289  0.065224 -0.021453 -0.039381 -0.068109  0.018696\n",
            " -0.128202 -0.107769  0.146171 -0.084558  0.156431 -0.175523 -0.083808\n",
            " -0.037621 -0.003146 -0.121029 -0.079444 -0.287712  0.091537 -0.076715\n",
            " -0.063875  0.003113 -0.103333 -0.07833   0.00665  -0.07057  -0.003894\n",
            "  0.012422 -0.019674 -0.217885 -0.001147 -0.035997 -0.09267  -0.089197\n",
            "  0.038563 -0.107634  0.003801  0.128081 -0.023577 -0.01864  -0.055853\n",
            " -0.029996  0.063729 -0.024839 -0.026315 -0.264351  0.200603 -0.072132\n",
            "  0.078501 -0.136505 -0.063109 -0.022557  0.142775 -0.277232  0.046284\n",
            " -0.121923 -0.017516 -0.084649 -0.027022 -0.026921 -0.03883  -0.150219\n",
            "  0.004163  0.04338   0.066351 -0.123526 -0.038813  0.211145 -0.104601\n",
            "  0.016405 -0.046621]\n",
            "[-0.04636585  0.00290141 -0.01413556 -0.00436223 -0.01574364 -0.0018889\n",
            " -0.02096075  0.00636308 -0.01904675 -0.00326262]\n"
          ]
        }
      ],
      "source": [
        "arr=data[-100:]\n",
        "print(arr)\n",
        "arr=arr.reshape(1,- 1)\n",
        "print(arr)\n",
        "result = np.vstack((X_test, arr))\n",
        "print(result[-1])\n",
        "ar=model.predict(result)\n",
        "print(ar[-1])\n",
        "#the very last line is the actual prediction into the future whose data we dont have"
      ]
    },
    {
      "cell_type": "code",
      "execution_count": null,
      "metadata": {
        "id": "bNe1nLqhX1ht"
      },
      "outputs": [],
      "source": [
        "import numpy as np\n",
        "from sklearn.preprocessing import StandardScaler\n",
        "from tensorflow.keras.models import Sequential\n",
        "from tensorflow.keras.layers import Conv1D, MaxPooling1D, Flatten, Dense, Dropout\n",
        "from tensorflow.keras import regularizers\n",
        "\n",
        "# Example dataset (replace with your data)\n",
        "# np.random.seed(0)\n",
        "data = df['t1'].values\n",
        "\n",
        "# Extract features (last 1000 values) and target (next 100 values)\n",
        "window_size = 100\n",
        "future_steps = 10\n",
        "\n",
        "X = []\n",
        "y = []\n",
        "\n",
        "for i in range(len(data) - window_size - future_steps):\n",
        "    X.append(data[i:i+window_size])\n",
        "    y.append(data[i+window_size:i+window_size+future_steps])\n",
        "\n",
        "X = np.array(X)\n",
        "y = np.array(y)\n",
        "\n",
        "# Reshape X for Conv1D\n",
        "X = X.reshape(X.shape[0], X.shape[1], 1)\n",
        "\n",
        "# Normalize features\n",
        "scaler = StandardScaler()\n",
        "X_normalized = scaler.fit_transform(X.reshape(-1, window_size)).reshape(X.shape)\n",
        "\n",
        "# Split data into training and testing based on time\n",
        "split_ratio = 0.8\n",
        "split_index = int(split_ratio * len(X_normalized))\n",
        "\n",
        "X_train, X_test = X_normalized[:split_index], X_normalized[split_index:]\n",
        "y_train, y_test = y[:split_index], y[split_index:]\n",
        "\n",
        "# Define CNN model with more hidden layers, filters, and dropout\n",
        "model = Sequential([\n",
        "    Conv1D(filters=64, kernel_size=5, activation='relu', input_shape=(window_size, 1), kernel_regularizer=regularizers.l2(0.01)),\n",
        "    MaxPooling1D(pool_size=2),\n",
        "    Conv1D(filters=128, kernel_size=5, activation='relu', kernel_regularizer=regularizers.l2(0.01)),\n",
        "    MaxPooling1D(pool_size=2),\n",
        "    Conv1D(filters=128, kernel_size=5, activation='relu', kernel_regularizer=regularizers.l2(0.01)),\n",
        "    MaxPooling1D(pool_size=2),\n",
        "    Flatten(),\n",
        "    Dense(256, activation='relu', kernel_regularizer=regularizers.l2(0.01)),\n",
        "    Dropout(0.5),\n",
        "    Dense(128, activation='relu', kernel_regularizer=regularizers.l2(0.01)),\n",
        "    Dropout(0.5),\n",
        "    Dense(10)  # Output 100 values\n",
        "])\n",
        "\n",
        "# Compile model\n",
        "model.compile(optimizer='adam', loss='mse')\n",
        "\n",
        "# Train model\n",
        "model.fit(X_train, y_train, epochs=10, batch_size=64, validation_data=(X_test, y_test))\n",
        "\n",
        "# Evaluate model\n",
        "mse = model.evaluate(X_test, y_test)\n",
        "print(\"Mean Squared Error:\", mse)\n",
        "\n",
        "\n"
      ]
    },
    {
      "cell_type": "markdown",
      "metadata": {
        "id": "P62Mz77aiTI8"
      },
      "source": [
        "Following is the implementation of the LSTM model, the loss function of that also is nearby that of the XGBoost"
      ]
    },
    {
      "cell_type": "code",
      "execution_count": null,
      "metadata": {
        "colab": {
          "base_uri": "https://localhost:8080/"
        },
        "id": "x8F6HrpthUHT",
        "outputId": "6eb60eee-84c2-4aa4-8cf6-ab269a059d42"
      },
      "outputs": [
        {
          "name": "stdout",
          "output_type": "stream",
          "text": [
            "279/279 [==============================] - 223s 778ms/step - loss: 0.4378 - val_loss: 0.4108\n",
            "140/140 [==============================] - 22s 156ms/step - loss: 0.4108\n",
            "Mean Squared Error: 0.4107724130153656\n"
          ]
        }
      ],
      "source": [
        "import numpy as np\n",
        "from sklearn.preprocessing import StandardScaler\n",
        "from tensorflow.keras.models import Sequential\n",
        "from tensorflow.keras.layers import LSTM, Dense, Dropout\n",
        "from tensorflow.keras import regularizers\n",
        "\n",
        "# Example dataset (replace with your data)\n",
        "# np.random.seed(0)\n",
        "data = df['t1'].values\n",
        "\n",
        "# Function to create input-output pairs\n",
        "def create_dataset(data, window_size, future_steps):\n",
        "    X, y = [], []\n",
        "    for i in range(len(data) - window_size - future_steps):\n",
        "        X.append(data[i:i+window_size])\n",
        "        y.append(data[i+window_size:i+window_size+future_steps])\n",
        "    return np.array(X), np.array(y)\n",
        "\n",
        "# Parameters\n",
        "window_size = 100\n",
        "future_steps = 10\n",
        "\n",
        "# Create input-output pairs\n",
        "X, y = create_dataset(data, window_size, future_steps)\n",
        "\n",
        "# Normalize features\n",
        "scaler = StandardScaler()\n",
        "X_normalized = scaler.fit_transform(X.reshape(-1, window_size)).reshape(X.shape)\n",
        "\n",
        "# Reshape X for LSTM\n",
        "X_reshaped = X_normalized.reshape(X_normalized.shape[0], window_size, 1)\n",
        "\n",
        "# Split data into training and testing based on time\n",
        "split_ratio = 0.8\n",
        "split_index = int(split_ratio * len(X_reshaped))\n",
        "\n",
        "X_train, X_test = X_reshaped[:split_index], X_reshaped[split_index:]\n",
        "y_train, y_test = y[:split_index], y[split_index:]\n",
        "\n",
        "# Define LSTM model with stacked architecture\n",
        "model = Sequential([\n",
        "    LSTM(units=128, return_sequences=True, input_shape=(window_size, 1)),\n",
        "    Dropout(0.2),\n",
        "    LSTM(units=128, return_sequences=True),\n",
        "    Dropout(0.2),\n",
        "    LSTM(units=128),  # Stacked LSTM\n",
        "    Dropout(0.2),\n",
        "    Dense(units=64, activation='relu'),\n",
        "    Dense(units=future_steps)  # Output 10 values\n",
        "])\n",
        "\n",
        "# Compile model\n",
        "model.compile(optimizer='adam', loss='mse')\n",
        "\n",
        "# Train model\n",
        "model.fit(X_train, y_train, epochs=1, batch_size=64, validation_data=(X_test, y_test))\n",
        "\n",
        "# Evaluate model\n",
        "mse = model.evaluate(X_test, y_test)\n",
        "print(\"Mean Squared Error:\", mse)\n",
        "\n",
        "# Predict next 10 values\n",
        "\n"
      ]
    },
    {
      "cell_type": "code",
      "execution_count": null,
      "metadata": {
        "id": "m-gd5AcBhUFL"
      },
      "outputs": [],
      "source": [
        "last_window = X_normalized[-1].reshape(1, window_size, 1)\n",
        "future_predictions = model.predict(last_window)\n",
        "\n",
        "# Inverse transform the predicted values\n",
        "future_predictions_denormalized = scaler.inverse_transform(future_predictions.reshape(-1, 1)).flatten()\n",
        "\n",
        "print(\"Future Predictions (Denormalized):\", future_predictions_denormalized)"
      ]
    },
    {
      "cell_type": "markdown",
      "metadata": {
        "id": "guvUXPBIh54d"
      },
      "source": [
        "In the following part we can see that how much relevance the model can have in short time period but it will decrease with the size of the data"
      ]
    },
    {
      "cell_type": "code",
      "execution_count": null,
      "metadata": {
        "id": "l79W20emcoVP"
      },
      "outputs": [],
      "source": [
        "import pandas as pd\n",
        "import numpy as np\n",
        "import matplotlib.pyplot as plt\n",
        "from google.colab import files\n",
        "\n",
        "uploaded = files.upload()"
      ]
    },
    {
      "cell_type": "code",
      "execution_count": null,
      "metadata": {
        "id": "8Oqijz73cquy"
      },
      "outputs": [],
      "source": [
        "df=pd.read_csv('intern_14March_20230707.csv')"
      ]
    },
    {
      "cell_type": "code",
      "execution_count": null,
      "metadata": {
        "id": "vzNX2A1fhUC0"
      },
      "outputs": [],
      "source": [
        "import numpy as np # linear algebra\n",
        "import pandas as pd # data processing, CSV file I/O (e.g. pd.read_csv)\n",
        "import seaborn as sns\n",
        "import matplotlib.pyplot as plt\n",
        "\n",
        "\n",
        "from keras.models import Sequential\n",
        "from keras.layers import Dense,RepeatVector\n",
        "from keras.layers import Flatten\n",
        "from keras.layers import TimeDistributed\n",
        "from keras.layers import Conv1D\n",
        "from keras.layers import MaxPooling1D\n",
        "\n",
        "\n",
        "\n",
        "from sklearn.preprocessing import MinMaxScaler\n",
        "from sklearn.metrics import mean_squared_error"
      ]
    },
    {
      "cell_type": "code",
      "execution_count": null,
      "metadata": {
        "id": "_8WWIoDXhUA6"
      },
      "outputs": [],
      "source": [
        "print(df)\n",
        "df=df.drop('t2',axis=1)\n",
        "df=df.drop('Time',axis=1)\n",
        "df = df.rename(columns={'Unnamed: 0': 'time'})\n",
        "df.set_index(['time'],inplace=True)\n",
        "df_1=df.values\n",
        "\n",
        "df_1=df_1.astype('float32')\n",
        "\n",
        "ts=df_1"
      ]
    },
    {
      "cell_type": "code",
      "execution_count": null,
      "metadata": {
        "id": "N-EzuWeBcuX4"
      },
      "outputs": [],
      "source": [
        "scaler = MinMaxScaler(feature_range=(-1,1))\n",
        "ts = scaler.fit_transform(df_1)"
      ]
    },
    {
      "cell_type": "code",
      "execution_count": null,
      "metadata": {
        "id": "xGYTNt9xcuUS"
      },
      "outputs": [],
      "source": [
        "timestep = 30\n",
        "\n",
        "X= []\n",
        "Y=[]\n",
        "\n",
        "raw_data=ts\n",
        "\n",
        "for i in range(len(raw_data)- (timestep)):\n",
        "    X.append(raw_data[i:i+timestep])\n",
        "    Y.append(raw_data[i+timestep])\n",
        "\n",
        "\n",
        "X=np.asanyarray(X)\n",
        "Y=np.asanyarray(Y)\n",
        "\n",
        "\n",
        "k = 15000\n",
        "Xtrain = X[:k,:,:]\n",
        "Ytrain = Y[:k]"
      ]
    },
    {
      "cell_type": "code",
      "execution_count": null,
      "metadata": {
        "id": "sKTnQ2SdcuSB"
      },
      "outputs": [],
      "source": [
        "#model architecture for the CNN that is going to be trained\n",
        "model = Sequential()\n",
        "model.add(Conv1D(filters=128, kernel_size=2, activation='relu', input_shape=(30, 1)))\n",
        "model.add(Conv1D(filters=128, kernel_size=2, activation='relu'))\n",
        "model.add(Conv1D(filters=128, kernel_size=2, activation='relu'))\n",
        "model.add(MaxPooling1D(pool_size=2))\n",
        "model.add(Flatten())\n",
        "model.add(Dense(100, activation='relu'))\n",
        "model.add(Dense(1))\n",
        "model.compile(optimizer='adam', loss='mse')\n",
        "# fit model\n",
        "model.fit(Xtrain, Ytrain, epochs=20)"
      ]
    },
    {
      "cell_type": "code",
      "execution_count": null,
      "metadata": {
        "id": "EOyvW3yCcuP0"
      },
      "outputs": [],
      "source": [
        "Xtest = X[k:,:,:]\n",
        "Ytest= Y[k:]"
      ]
    },
    {
      "cell_type": "code",
      "execution_count": null,
      "metadata": {
        "id": "N1w5JxiccuNy"
      },
      "outputs": [],
      "source": [
        "preds = model.predict(Xtest)\n",
        "preds = scaler.inverse_transform(preds)\n",
        "\n",
        "\n",
        "Ytest=np.asanyarray(Ytest)\n",
        "Ytest=Ytest.reshape(-1,1)\n",
        "Ytest = scaler.inverse_transform(Ytest)\n",
        "\n",
        "\n",
        "Ytrain=np.asanyarray(Ytrain)\n",
        "Ytrain=Ytrain.reshape(-1,1)\n",
        "Ytrain = scaler.inverse_transform(Ytrain)\n",
        "\n",
        "mean_squared_error(Ytest,preds)"
      ]
    },
    {
      "cell_type": "code",
      "execution_count": null,
      "metadata": {
        "id": "Md6TYjlTc8Dx"
      },
      "outputs": [],
      "source": [
        "from matplotlib import pyplot\n",
        "pyplot.figure(figsize=(20,10))\n",
        "pyplot.plot(Ytest)\n",
        "pyplot.plot(preds, 'r')\n",
        "pyplot.show()"
      ]
    }
  ],
  "metadata": {
    "colab": {
      "provenance": []
    },
    "kernelspec": {
      "display_name": "Python 3",
      "name": "python3"
    },
    "language_info": {
      "name": "python"
    }
  },
  "nbformat": 4,
  "nbformat_minor": 0
}
