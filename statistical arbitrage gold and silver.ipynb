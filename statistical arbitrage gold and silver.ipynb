{
 "cells": [
  {
   "cell_type": "code",
   "execution_count": 41,
   "metadata": {},
   "outputs": [],
   "source": [
    "import random\n",
    "import pandas as pd\n",
    "import math\n",
    "import numpy as np\n",
    "import matplotlib.pyplot as plt\n",
    "%matplotlib inline\n",
    "from IPython.display import display\n",
    "from datetime import datetime,date,timedelta\n",
    "pd.set_option('display.max_rows',None)\n",
    "import sys\n",
    "import warnings\n",
    "import calendar\n",
    "import time\n",
    "import mibian\n",
    "from matplotlib.ticker import AutoMinorLocator\n",
    "from matplotlib import gridspec\n",
    "from scipy.spatial.distance import euclidean\n",
    "from statsmodels.api import OLS\n",
    "from statsmodels.tsa.stattools import adfuller\n",
    "\n",
    "if not sys.warnoptions:\n",
    "    warnings.simplefilter(\"ignore\")\n",
    "from time import sleep\n",
    "from tqdm import tqdm\n",
    "from tqdm.notebook import tqdm\n",
    "from zipfile import ZipFile\n",
    "import os "
   ]
  },
  {
   "cell_type": "code",
   "execution_count": 43,
   "metadata": {},
   "outputs": [],
   "source": []
  },
  {
   "cell_type": "code",
   "execution_count": 38,
   "metadata": {},
   "outputs": [],
   "source": [
    "def clean_data(asset,roll):\n",
    "    df = pd.read_excel(\"Gold Silver Ratio.xlsx\",sheet_name=asset)\n",
    "    df['DTE'] = df['Expiry date'] - df['As on date']\n",
    "    df= df.loc[:,['As on date','Expiry date','Close','OI','Expiry Month Ser No','DTE']]\n",
    "    df0 = df[df['Expiry Month Ser No']==0]\n",
    "    df1 = df[df['Expiry Month Ser No']==1]\n",
    "    df_merge = df0.merge(df1 ,how='outer',on='As on date')\n",
    "    \n",
    "    data = pd.DataFrame(columns=['Date','Expiry','Price','DTE'])\n",
    "    \n",
    "    for i in range(len(df_merge)):\n",
    "        date = df_merge['As on date'].iloc[i]\n",
    "        if df_merge['DTE_x'].iloc[i].days<roll:\n",
    "            exp = df_merge['Expiry date_y'].iloc[i]\n",
    "            pr = df_merge['Close_y'].iloc[i]\n",
    "            dte = df_merge['DTE_y'].iloc[i]\n",
    "        else:\n",
    "            exp = df_merge['Expiry date_x'].iloc[i]\n",
    "            pr = df_merge['Close_x'].iloc[i]\n",
    "            dte = df_merge['DTE_x'].iloc[i]\n",
    "        dicts = [{'Date':date,'Expiry':exp,'Price':pr,'DTE':dte}]\n",
    "        data  =data.append(dicts,ignore_index=True, sort=False)\n",
    "    return (data)\n",
    "\n",
    "\n",
    "def merge_and_adjust(base,other,perc):\n",
    "    df = base.merge(other,how='inner',on='Date')\n",
    "    df['delta dte'] = df['DTE']=df['DTE_y']-df['DTE_x']\n",
    "    df['X'] = df['Price_x']\n",
    "    df['Y']= 0\n",
    "    for i in range(len(df)):\n",
    "        del_days = df['delta dte'].iloc[i].days\n",
    "        if del_days>0:\n",
    "            d_factor = 1/(pow((1+perc/100),(del_days/365)))\n",
    "        elif del_days<0:\n",
    "            d_factor = (pow((1+perc/100),(-del_days/365)))\n",
    "        else:\n",
    "            d_factor = 1\n",
    "\n",
    "        df['Y'].iloc[i]= round(df['Price_y'].iloc[i]*d_factor,0)\n",
    "    df['Ratio'] = df['Y']/df['X']\n",
    "    return df"
   ]
  },
  {
   "cell_type": "code",
   "execution_count": 35,
   "metadata": {},
   "outputs": [],
   "source": [
    "roll_days = 7\n",
    "gold_clean = clean_data(\"GOLD\",roll_days)\n",
    "silver_clean  =clean_data(\"SILVER\",roll_days)\n",
    "df = merge_and_adjust(gold_clean,silver_clean,6)\n",
    "df = df.set_index('Date')"
   ]
  },
  {
   "cell_type": "code",
   "execution_count": 130,
   "metadata": {},
   "outputs": [],
   "source": [
    "def adftest(spread):\n",
    "    adf = adfuller(spread,autolag='BIC')\n",
    "    #print(spread)\n",
    "    print(\"Start date: \", spread.index[0].date())\n",
    "    print(\"End date: \",spread.index[-1].date())\n",
    "    print('t-stat = ', round(adf[0],2))\n",
    "    print('p-value = ', round(adf[1],2))\n",
    "    if adf[1]<0.30:\n",
    "        group = \"Mean-reverting\"\n",
    "    elif adf[1]>0.70:\n",
    "        group = \"Trending\"\n",
    "    else:\n",
    "        group = \"No-Result\"\n",
    "    print(group)\n",
    "    print(adf[4])\n",
    "        \n",
    "    \n",
    "def hurst_exp(time_series,max_lag=20):\n",
    "    lags = range(2, max_lag)\n",
    "\n",
    "    # variances of the lagged differences\n",
    "    tau = [np.std(np.subtract(time_series[lag:], time_series[:-lag])) for lag in lags]\n",
    "\n",
    "    # calculate the slope of the log plot -> the Hurst Exponent\n",
    "    reg = np.polyfit(np.log(lags), np.log(tau), 1)\n",
    "    print(\"Hurst Exp: \",round(reg[0],2))\n",
    "    if reg[0]>0.7:\n",
    "        group = \"Trending\"\n",
    "    elif reg[0]<0.3:\n",
    "        group =\"Mean-reverting\"\n",
    "    else:\n",
    "        group =\"No-Result\"\n",
    "    \n",
    "    print(group)\n",
    "    return group\n",
    "    "
   ]
  },
  {
   "cell_type": "code",
   "execution_count": 131,
   "metadata": {},
   "outputs": [
    {
     "name": "stdout",
     "output_type": "stream",
     "text": [
      "Start date:  2010-01-01\n",
      "End date:  2022-11-24\n",
      "t-stat =  -1.57\n",
      "p-value =  0.5\n",
      "No-Result\n",
      "{'1%': -3.432336161366224, '5%': -2.8624175686388993, '10%': -2.567237147952593}\n"
     ]
    }
   ],
   "source": [
    "adftest(df['Ratio'])"
   ]
  },
  {
   "cell_type": "code",
   "execution_count": 128,
   "metadata": {},
   "outputs": [
    {
     "name": "stdout",
     "output_type": "stream",
     "text": [
      "Hurst Exp:  0.5\n",
      "No-Result\n"
     ]
    }
   ],
   "source": [
    "lag=100\n",
    "h= hurst_exp(df['Ratio'].values,lag)\n"
   ]
  },
  {
   "cell_type": "code",
   "execution_count": 129,
   "metadata": {},
   "outputs": [
    {
     "data": {
      "text/html": [
       "<div>\n",
       "<style scoped>\n",
       "    .dataframe tbody tr th:only-of-type {\n",
       "        vertical-align: middle;\n",
       "    }\n",
       "\n",
       "    .dataframe tbody tr th {\n",
       "        vertical-align: top;\n",
       "    }\n",
       "\n",
       "    .dataframe thead th {\n",
       "        text-align: right;\n",
       "    }\n",
       "</style>\n",
       "<table border=\"1\" class=\"dataframe\">\n",
       "  <thead>\n",
       "    <tr style=\"text-align: right;\">\n",
       "      <th></th>\n",
       "      <th>Expiry_x</th>\n",
       "      <th>Price_x</th>\n",
       "      <th>DTE_x</th>\n",
       "      <th>Expiry_y</th>\n",
       "      <th>Price_y</th>\n",
       "      <th>DTE_y</th>\n",
       "      <th>delta dte</th>\n",
       "      <th>DTE</th>\n",
       "      <th>X</th>\n",
       "      <th>Y</th>\n",
       "      <th>Ratio</th>\n",
       "    </tr>\n",
       "    <tr>\n",
       "      <th>Date</th>\n",
       "      <th></th>\n",
       "      <th></th>\n",
       "      <th></th>\n",
       "      <th></th>\n",
       "      <th></th>\n",
       "      <th></th>\n",
       "      <th></th>\n",
       "      <th></th>\n",
       "      <th></th>\n",
       "      <th></th>\n",
       "      <th></th>\n",
       "    </tr>\n",
       "  </thead>\n",
       "  <tbody>\n",
       "    <tr>\n",
       "      <th>2010-01-01</th>\n",
       "      <td>2010-02-05</td>\n",
       "      <td>16686</td>\n",
       "      <td>35 days</td>\n",
       "      <td>2010-03-05</td>\n",
       "      <td>26740</td>\n",
       "      <td>63 days</td>\n",
       "      <td>28 days</td>\n",
       "      <td>28 days</td>\n",
       "      <td>16686</td>\n",
       "      <td>26621</td>\n",
       "      <td>1.59541</td>\n",
       "    </tr>\n",
       "    <tr>\n",
       "      <th>2010-01-04</th>\n",
       "      <td>2010-02-05</td>\n",
       "      <td>16830</td>\n",
       "      <td>32 days</td>\n",
       "      <td>2010-03-05</td>\n",
       "      <td>27245</td>\n",
       "      <td>60 days</td>\n",
       "      <td>28 days</td>\n",
       "      <td>28 days</td>\n",
       "      <td>16830</td>\n",
       "      <td>27123</td>\n",
       "      <td>1.61159</td>\n",
       "    </tr>\n",
       "    <tr>\n",
       "      <th>2010-01-05</th>\n",
       "      <td>2010-02-05</td>\n",
       "      <td>16833</td>\n",
       "      <td>31 days</td>\n",
       "      <td>2010-03-05</td>\n",
       "      <td>27638</td>\n",
       "      <td>59 days</td>\n",
       "      <td>28 days</td>\n",
       "      <td>28 days</td>\n",
       "      <td>16833</td>\n",
       "      <td>27515</td>\n",
       "      <td>1.63459</td>\n",
       "    </tr>\n",
       "    <tr>\n",
       "      <th>2010-01-06</th>\n",
       "      <td>2010-02-05</td>\n",
       "      <td>16865</td>\n",
       "      <td>30 days</td>\n",
       "      <td>2010-03-05</td>\n",
       "      <td>27813</td>\n",
       "      <td>58 days</td>\n",
       "      <td>28 days</td>\n",
       "      <td>28 days</td>\n",
       "      <td>16865</td>\n",
       "      <td>27689</td>\n",
       "      <td>1.6418</td>\n",
       "    </tr>\n",
       "    <tr>\n",
       "      <th>2010-01-07</th>\n",
       "      <td>2010-02-05</td>\n",
       "      <td>16827</td>\n",
       "      <td>29 days</td>\n",
       "      <td>2010-03-05</td>\n",
       "      <td>27960</td>\n",
       "      <td>57 days</td>\n",
       "      <td>28 days</td>\n",
       "      <td>28 days</td>\n",
       "      <td>16827</td>\n",
       "      <td>27835</td>\n",
       "      <td>1.65419</td>\n",
       "    </tr>\n",
       "  </tbody>\n",
       "</table>\n",
       "</div>"
      ],
      "text/plain": [
       "             Expiry_x Price_x   DTE_x   Expiry_y Price_y   DTE_y delta dte  \\\n",
       "Date                                                                         \n",
       "2010-01-01 2010-02-05   16686 35 days 2010-03-05   26740 63 days   28 days   \n",
       "2010-01-04 2010-02-05   16830 32 days 2010-03-05   27245 60 days   28 days   \n",
       "2010-01-05 2010-02-05   16833 31 days 2010-03-05   27638 59 days   28 days   \n",
       "2010-01-06 2010-02-05   16865 30 days 2010-03-05   27813 58 days   28 days   \n",
       "2010-01-07 2010-02-05   16827 29 days 2010-03-05   27960 57 days   28 days   \n",
       "\n",
       "               DTE      X      Y    Ratio  \n",
       "Date                                       \n",
       "2010-01-01 28 days  16686  26621  1.59541  \n",
       "2010-01-04 28 days  16830  27123  1.61159  \n",
       "2010-01-05 28 days  16833  27515  1.63459  \n",
       "2010-01-06 28 days  16865  27689   1.6418  \n",
       "2010-01-07 28 days  16827  27835  1.65419  "
      ]
     },
     "execution_count": 129,
     "metadata": {},
     "output_type": "execute_result"
    }
   ],
   "source": [
    "df.head()"
   ]
  },
  {
   "cell_type": "code",
   "execution_count": 59,
   "metadata": {},
   "outputs": [
    {
     "data": {
      "text/plain": [
       "<AxesSubplot:xlabel='Date'>"
      ]
     },
     "execution_count": 59,
     "metadata": {},
     "output_type": "execute_result"
    },
    {
     "data": {
      "image/png": "[encoded data removed]",
      "text/plain": [
       "<Figure size 432x288 with 1 Axes>"
      ]
     },
     "metadata": {
      "needs_background": "light"
     },
     "output_type": "display_data"
    }
   ],
   "source": [
    "df['Ratio'].plot()"
   ]
  },
  {
   "cell_type": "code",
   "execution_count": null,
   "metadata": {},
   "outputs": [],
   "source": []
  },
  {
   "cell_type": "code",
   "execution_count": 58,
   "metadata": {},
   "outputs": [],
   "source": [
    "df.to_excel(\"Sample_data_version_1.xlsx\")"
   ]
  },
  {
   "cell_type": "code",
   "execution_count": null,
   "metadata": {},
   "outputs": [],
   "source": []
  }
 ],
 "metadata": {
  "kernelspec": {
   "display_name": "Python 3",
   "language": "python",
   "name": "python3"
  },
  "language_info": {
   "codemirror_mode": {
    "name": "ipython",
    "version": 3
   },
   "file_extension": ".py",
   "mimetype": "text/x-python",
   "name": "python",
   "nbconvert_exporter": "python",
   "pygments_lexer": "ipython3",
   "version": "3.10.2 (tags/v3.10.2:a58ebcc, Jan 17 2022, 14:12:15) [MSC v.1929 64 bit (AMD64)]"
  },
  "vscode": {
   "interpreter": {
    "hash": "d95e7261581a5208c738e5298f16882fdf47c4de3a2bb1a984bc5355aabcbe0e"
   }
  }
 },
 "nbformat": 4,
 "nbformat_minor": 4
}
